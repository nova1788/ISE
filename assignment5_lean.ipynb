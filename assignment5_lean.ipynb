{
  "nbformat": 4,
  "nbformat_minor": 0,
  "metadata": {
    "colab": {
      "provenance": [],
      "authorship_tag": "ABX9TyNTEEXbICqtOEbps1ca8wvd",
      "include_colab_link": true
    },
    "kernelspec": {
      "name": "python3",
      "display_name": "Python 3"
    },
    "language_info": {
      "name": "python"
    }
  },
  "cells": [
    {
      "cell_type": "markdown",
      "metadata": {
        "id": "view-in-github",
        "colab_type": "text"
      },
      "source": [
        "<a href=\"https://colab.research.google.com/github/nova1788/ISE/blob/main/assignment5_lean.ipynb\" target=\"_parent\"><img src=\"https://colab.research.google.com/assets/colab-badge.svg\" alt=\"Open In Colab\"/></a>"
      ]
    },
    {
      "cell_type": "code",
      "source": [
        "import math"
      ],
      "metadata": {
        "id": "3LZ56nnVuY6S"
      },
      "execution_count": 9,
      "outputs": []
    },
    {
      "cell_type": "code",
      "execution_count": 11,
      "metadata": {
        "colab": {
          "base_uri": "https://localhost:8080/"
        },
        "id": "dwd2kLf2sxIq",
        "outputId": "f6407470-4dd8-4d17-b355-af1b101ea7e8"
      },
      "outputs": [
        {
          "output_type": "stream",
          "name": "stdout",
          "text": [
            "6.674e-11 5.972e+24 6371000.0 500000 7616.282185541177\n"
          ]
        }
      ],
      "source": [
        "\n",
        "# parameters\n",
        "G = 6.674*10**-11\n",
        "M = 5.972*10**24\n",
        "Re = 6.371*10**6\n",
        "h = 5*10**5\n",
        "\n",
        "# velocity\n",
        "V = math.sqrt((G*M)/(Re+h))\n",
        "print (G, M, Re, h, V)"
      ]
    },
    {
      "cell_type": "code",
      "source": [
        "# delta v\n",
        "delta_v = 2*V*math.sin(math.radians((45-30)/2))\n",
        "print(delta_v)"
      ],
      "metadata": {
        "colab": {
          "base_uri": "https://localhost:8080/"
        },
        "id": "-fjLGVhSvqgZ",
        "outputId": "c150f607-b8af-486a-f91e-04ef4e6ef0b5"
      },
      "execution_count": 14,
      "outputs": [
        {
          "output_type": "stream",
          "name": "stdout",
          "text": [
            "1988.2486251042042\n"
          ]
        }
      ]
    },
    {
      "cell_type": "code",
      "source": [
        "# propellant mass calculation\n",
        "mf = 100 #final mass 100kg\n",
        "Isp = 300 #Isp = 300 s\n",
        "g0 = 9.8 #gravitational acceleration\n",
        "mi = mf*math.exp(delta_v/(Isp*g0))\n",
        "\n",
        "print(mi)\n",
        "\n",
        "m_prop = mi-mf\n",
        "print (m_prop)"
      ],
      "metadata": {
        "colab": {
          "base_uri": "https://localhost:8080/"
        },
        "id": "mMdDzU8Z3Qa4",
        "outputId": "090d4a09-7191-4ad2-8e81-e228a887d158"
      },
      "execution_count": 16,
      "outputs": [
        {
          "output_type": "stream",
          "name": "stdout",
          "text": [
            "196.65387987644874\n",
            "96.65387987644874\n"
          ]
        }
      ]
    }
  ]
}