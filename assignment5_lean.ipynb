{
  "nbformat": 4,
  "nbformat_minor": 0,
  "metadata": {
    "colab": {
      "provenance": [],
      "authorship_tag": "ABX9TyP8bYEGQxInZ089tH05H5RO",
      "include_colab_link": true
    },
    "kernelspec": {
      "name": "python3",
      "display_name": "Python 3"
    },
    "language_info": {
      "name": "python"
    }
  },
  "cells": [
    {
      "cell_type": "markdown",
      "metadata": {
        "id": "view-in-github",
        "colab_type": "text"
      },
      "source": [
        "<a href=\"https://colab.research.google.com/github/nova1788/ISE/blob/main/assignment5_lean.ipynb\" target=\"_parent\"><img src=\"https://colab.research.google.com/assets/colab-badge.svg\" alt=\"Open In Colab\"/></a>"
      ]
    },
    {
      "cell_type": "code",
      "source": [
        "import math"
      ],
      "metadata": {
        "id": "3LZ56nnVuY6S"
      },
      "execution_count": 9,
      "outputs": []
    },
    {
      "cell_type": "code",
      "execution_count": 11,
      "metadata": {
        "colab": {
          "base_uri": "https://localhost:8080/"
        },
        "id": "dwd2kLf2sxIq",
        "outputId": "f6407470-4dd8-4d17-b355-af1b101ea7e8"
      },
      "outputs": [
        {
          "output_type": "stream",
          "name": "stdout",
          "text": [
            "6.674e-11 5.972e+24 6371000.0 500000 7616.282185541177\n"
          ]
        }
      ],
      "source": [
        "\n",
        "# parameters\n",
        "G = 6.674*10**-11\n",
        "M = 5.972*10**24\n",
        "Re = 6.371*10**6\n",
        "h = 5*10**5\n",
        "\n",
        "# velocity\n",
        "V = math.sqrt((G*M)/(Re+h))\n",
        "print (G, M, Re, h, V)"
      ]
    },
    {
      "cell_type": "code",
      "source": [
        "# delta v\n",
        "delta_v = 2*V*math.sin((math.radians(45-30))/2)\n",
        "print(delta_v)"
      ],
      "metadata": {
        "colab": {
          "base_uri": "https://localhost:8080/"
        },
        "id": "-fjLGVhSvqgZ",
        "outputId": "94dad82a-5bde-46d5-c5c6-a23c5778356c"
      },
      "execution_count": 13,
      "outputs": [
        {
          "output_type": "stream",
          "name": "stdout",
          "text": [
            "1988.2486251042042\n"
          ]
        }
      ]
    }
  ]
}