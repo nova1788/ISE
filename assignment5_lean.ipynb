{
  "nbformat": 4,
  "nbformat_minor": 0,
  "metadata": {
    "colab": {
      "provenance": [],
      "authorship_tag": "ABX9TyP0HZnGwl03EqthmnQ92nfO",
      "include_colab_link": true
    },
    "kernelspec": {
      "name": "python3",
      "display_name": "Python 3"
    },
    "language_info": {
      "name": "python"
    }
  },
  "cells": [
    {
      "cell_type": "markdown",
      "metadata": {
        "id": "view-in-github",
        "colab_type": "text"
      },
      "source": [
        "<a href=\"https://colab.research.google.com/github/nova1788/ISE/blob/main/assignment5_lean.ipynb\" target=\"_parent\"><img src=\"https://colab.research.google.com/assets/colab-badge.svg\" alt=\"Open In Colab\"/></a>"
      ]
    },
    {
      "cell_type": "code",
      "source": [
        "import math"
      ],
      "metadata": {
        "id": "3LZ56nnVuY6S"
      },
      "execution_count": null,
      "outputs": []
    },
    {
      "cell_type": "code",
      "execution_count": null,
      "metadata": {
        "id": "dwd2kLf2sxIq"
      },
      "outputs": [],
      "source": [
        "\n",
        "# parameters\n",
        "G = 6.674*10**-11\n",
        "M = 5.972*10**24\n",
        "Re = 6.371*10**6\n",
        "h = 5*10**5\n",
        "\n",
        "# velocity\n",
        "V = math.sqrt((G*M)/(Re+h))\n",
        "print (G, M, Re, h, V)"
      ]
    },
    {
      "cell_type": "code",
      "source": [
        "# delta v\n",
        "delta_v = 2*V*math.sin(math.radians((45-30)/2))\n",
        "print(delta_v)"
      ],
      "metadata": {
        "id": "-fjLGVhSvqgZ"
      },
      "execution_count": null,
      "outputs": []
    },
    {
      "cell_type": "code",
      "source": [
        "# propellant mass calculation\n",
        "mf = 100 #final mass 100kg\n",
        "Isp = 300 #Isp = 300 s\n",
        "g0 = 9.8 #gravitational acceleration\n",
        "\n",
        "g = (G*M)/((Re+h)**2)\n",
        "\n",
        "mi = mf*math.exp(delta_v/(Isp*g))\n",
        "\n",
        "print(mi)\n",
        "\n",
        "m_prop = mi-mf\n",
        "print (m_prop, g)\n"
      ],
      "metadata": {
        "id": "mMdDzU8Z3Qa4"
      },
      "execution_count": null,
      "outputs": []
    }
  ]
}